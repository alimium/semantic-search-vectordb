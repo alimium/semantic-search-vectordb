{
 "cells": [
  {
   "cell_type": "code",
   "execution_count": 3,
   "metadata": {},
   "outputs": [],
   "source": [
    "# import block\n",
    "import os\n",
    "from pathlib import Path\n",
    "from semantica.db.db_tools import SemanticaDB\n",
    "from semantica.utils.summarize import SemanticaSummarizer\n",
    "from semantica.utils.parser import parse_files\n",
    "from semantica.utils.preprocessing import preprocess\n",
    "import gradio as gr"
   ]
  },
  {
   "cell_type": "code",
   "execution_count": 4,
   "metadata": {},
   "outputs": [
    {
     "name": "stderr",
     "output_type": "stream",
     "text": [
      "No model was supplied, defaulted to sshleifer/distilbart-cnn-12-6 and revision a4f8f3e (https://huggingface.co/sshleifer/distilbart-cnn-12-6).\n",
      "Using a pipeline without specifying a model name and revision in production is not recommended.\n"
     ]
    }
   ],
   "source": [
    "# instantiate database and summarizer\n",
    "\n",
    "summarizer = SemanticaSummarizer()\n",
    "db = SemanticaDB(\"semanticadb\")"
   ]
  },
  {
   "cell_type": "code",
   "execution_count": 6,
   "metadata": {},
   "outputs": [
    {
     "name": "stdout",
     "output_type": "stream",
     "text": [
      "extracted F6.pdf\n",
      "extracted F0.pdf\n",
      "extracted F9.pdf\n",
      "extracted F3.pdf\n",
      "extracted F2.pdf\n",
      "extracted F8.pdf\n",
      "extracted F7.pdf\n",
      "extracted F1.pdf\n",
      "extracted F5.pdf\n",
      "parsing done.\n"
     ]
    }
   ],
   "source": [
    "# parse pdf files into txt\n",
    "try:\n",
    "    pdf_path = Path(os.path.dirname('')) / \"data/pdf_raw\"\n",
    "    txt_path = pdf_path.parent / \"extracted\"\n",
    "except FileNotFoundError:\n",
    "    print(\"Base folder not found\")\n",
    "if not txt_path.exists():\n",
    "    parse_files(base_folder=str(pdf_path),\n",
    "                dst_folder=str(txt_path), num_workers=0)\n",
    "    print(\"parsing done.\")"
   ]
  },
  {
   "cell_type": "code",
   "execution_count": 7,
   "metadata": {},
   "outputs": [
    {
     "name": "stdout",
     "output_type": "stream",
     "text": [
      "number of files: 9\n",
      "File F6 added to database.\n",
      "File F7 added to database.\n",
      "File F5 added to database.\n",
      "File F0 added to database.\n",
      "File F1 added to database.\n",
      "File F3 added to database.\n",
      "File F2 added to database.\n",
      "File F9 added to database.\n",
      "File F8 added to database.\n",
      "number of files in db: 9\n"
     ]
    }
   ],
   "source": [
    "# add data to the collection\n",
    "names = os.listdir(txt_path)\n",
    "files = [txt_path / name for name in names]\n",
    "metadata = [{\"file_path\": str(file)} for file in files]\n",
    "sequences = []\n",
    "for file in files:\n",
    "    sequences.append(preprocess(file_path=file))\n",
    "print(f\"number of files: {len(sequences)}\")\n",
    "for id, seq, met in zip(names, sequences, metadata):\n",
    "    db.add_data(id[:-4], seq, met)\n",
    "print(\"number of files in db:\", db.collection.count())"
   ]
  },
  {
   "cell_type": "code",
   "execution_count": 10,
   "metadata": {},
   "outputs": [
    {
     "name": "stderr",
     "output_type": "stream",
     "text": [
      "/Users/ali/Documents/Coding/conda_envs/nlp/lib/python3.11/site-packages/gradio/interface.py:275: UserWarning: The `allow_flagging` parameter in `Interface` nowtakes a string value ('auto', 'manual', or 'never'), not a boolean. Setting parameter to: 'never'.\n",
      "  warnings.warn(\n"
     ]
    },
    {
     "name": "stdout",
     "output_type": "stream",
     "text": [
      "Running on local URL:  http://127.0.0.1:7862\n"
     ]
    },
    {
     "name": "stderr",
     "output_type": "stream",
     "text": [
      "huggingface/tokenizers: The current process just got forked, after parallelism has already been used. Disabling parallelism to avoid deadlocks...\n",
      "To disable this warning, you can either:\n",
      "\t- Avoid using `tokenizers` before the fork if possible\n",
      "\t- Explicitly set the environment variable TOKENIZERS_PARALLELISM=(true | false)\n"
     ]
    },
    {
     "name": "stdout",
     "output_type": "stream",
     "text": [
      "Running on public URL: https://91ff0f48e33c0b329c.gradio.live\n",
      "\n",
      "This share link expires in 72 hours. For free permanent hosting and GPU upgrades, run `gradio deploy` from Terminal to deploy to Spaces (https://huggingface.co/spaces)\n"
     ]
    },
    {
     "data": {
      "text/html": [
       "<div><iframe src=\"https://91ff0f48e33c0b329c.gradio.live\" width=\"100%\" height=\"500\" allow=\"autoplay; camera; microphone; clipboard-read; clipboard-write;\" frameborder=\"0\" allowfullscreen></iframe></div>"
      ],
      "text/plain": [
       "<IPython.core.display.HTML object>"
      ]
     },
     "metadata": {},
     "output_type": "display_data"
    },
    {
     "data": {
      "text/plain": []
     },
     "execution_count": 10,
     "metadata": {},
     "output_type": "execute_result"
    }
   ],
   "source": [
    "QUERY = \"what is the wage for broadcast technicians?\"\n",
    "\n",
    "\n",
    "def search_interface(query):\n",
    "    ids, paths = db.get_files(query, 2)\n",
    "    summaries = summarizer.summarize_files(paths)\n",
    "    texts = \"\"\n",
    "    for id, path, summary in zip(ids, paths, summaries):\n",
    "        texts = texts + f\"File: {id}.txt\\nPath: {path}\\n{summary}\\n\\n\"\n",
    "    return texts\n",
    "\n",
    "\n",
    "interface = gr.Interface(fn=search_interface, inputs=\"text\",\n",
    "                         outputs=\"text\", allow_flagging=False)\n",
    "interface.launch(share=True, inline=True)"
   ]
  },
  {
   "cell_type": "code",
   "execution_count": null,
   "metadata": {},
   "outputs": [],
   "source": []
  }
 ],
 "metadata": {
  "kernelspec": {
   "display_name": "nlp",
   "language": "python",
   "name": "python3"
  },
  "language_info": {
   "codemirror_mode": {
    "name": "ipython",
    "version": 3
   },
   "file_extension": ".py",
   "mimetype": "text/x-python",
   "name": "python",
   "nbconvert_exporter": "python",
   "pygments_lexer": "ipython3",
   "version": "3.11.6"
  }
 },
 "nbformat": 4,
 "nbformat_minor": 2
}
